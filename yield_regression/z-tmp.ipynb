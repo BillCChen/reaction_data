{
 "cells": [
  {
   "cell_type": "code",
   "execution_count": null,
   "metadata": {},
   "outputs": [],
   "source": [
    "import pickle\n",
    "'dataset_path'= '/root/reaction_data/S-F/SF640_A>B>C_lbl.pkl'"
   ]
  },
  {
   "cell_type": "code",
   "execution_count": 7,
   "metadata": {},
   "outputs": [
    {
     "name": "stdout",
     "output_type": "stream",
     "text": [
      "dict_keys(['reaction', 'label', 'encoding'])\n",
      "OCCCCC1=CC=CC=C1>C1CN=C2CCCCCN2C1.FS(=O)(=O)C1=CC=C(Cl)C=C1>FCCCCC1=CC=CC=C1\n",
      "[0.42]\n"
     ]
    }
   ],
   "source": [
    "import pickle\n",
    "dataset_path= '/root/reaction_data/S-F/SF640_A>B>C_lbl_list.pkl'\n",
    "data = pickle.load(open(dataset_path, 'rb'))\n",
    "print(data[0].keys())\n",
    "print(data[0]['reaction'])\n",
    "print(data[0]['label'])"
   ]
  },
  {
   "cell_type": "code",
   "execution_count": 8,
   "metadata": {},
   "outputs": [],
   "source": [
    "# 把 以 reactions每一个元素作为 key 构建字典\n",
    "new_dict = {}\n",
    "for d in data:\n",
    "    new_dict[d['reaction']] = {'smiles': d['reaction'], \n",
    "                                'label': d['label'],\n",
    "                                'encoding': {},\n",
    "                                'predict': {}\n",
    "    } \n",
    "\n",
    "# 写入新的文件\n",
    "with open('/root/reaction_data/S-F/SF640_A>B>C_lbl.pkl', 'wb') as f:\n",
    "    pickle.dump(new_dict, f)"
   ]
  }
 ],
 "metadata": {
  "kernelspec": {
   "display_name": "unirxn",
   "language": "python",
   "name": "python3"
  },
  "language_info": {
   "codemirror_mode": {
    "name": "ipython",
    "version": 3
   },
   "file_extension": ".py",
   "mimetype": "text/x-python",
   "name": "python",
   "nbconvert_exporter": "python",
   "pygments_lexer": "ipython3",
   "version": "3.9.18"
  }
 },
 "nbformat": 4,
 "nbformat_minor": 2
}
